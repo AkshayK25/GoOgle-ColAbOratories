{
  "nbformat": 4,
  "nbformat_minor": 0,
  "metadata": {
    "colab": {
      "name": "numpy_indexing and slicing.ipynb",
      "version": "0.3.2",
      "provenance": [],
      "collapsed_sections": [],
      "include_colab_link": true
    },
    "kernelspec": {
      "name": "python3",
      "display_name": "Python 3"
    }
  },
  "cells": [
    {
      "cell_type": "markdown",
      "metadata": {
        "id": "view-in-github",
        "colab_type": "text"
      },
      "source": [
        "<a href=\"https://colab.research.google.com/github/AkshayK25/GoOgle-ColAbOratories/blob/master/Numpy_indexing_and_slicing.ipynb\" target=\"_parent\"><img src=\"https://colab.research.google.com/assets/colab-badge.svg\" alt=\"Open In Colab\"/></a>"
      ]
    },
    {
      "cell_type": "code",
      "metadata": {
        "id": "C5ETEMl1X6Hk",
        "colab_type": "code",
        "outputId": "55d1650b-9a6e-447b-d8b8-a8789c381f4b",
        "colab": {
          "base_uri": "https://localhost:8080/",
          "height": 102
        }
      },
      "source": [
        "import numpy as np\n",
        "n = int(input())\n",
        "def tiling(n):\n",
        "    result = np.zeros((n, n), dtype = int)\n",
        "    result[::2, 1::2] = 1\n",
        "    result[1::2, ::2] = 1\n",
        "    return result\n",
        "  \n",
        "print(tiling(n))"
      ],
      "execution_count": 0,
      "outputs": [
        {
          "output_type": "stream",
          "text": [
            "4\n",
            "[[0 1 0 1]\n",
            " [1 0 1 0]\n",
            " [0 1 0 1]\n",
            " [1 0 1 0]]\n"
          ],
          "name": "stdout"
        }
      ]
    },
    {
      "cell_type": "code",
      "metadata": {
        "id": "Lj-NMEkm-BFo",
        "colab_type": "code",
        "colab": {}
      },
      "source": [
        ""
      ],
      "execution_count": 0,
      "outputs": []
    },
    {
      "cell_type": "markdown",
      "metadata": {
        "id": "HP-lUMCo-C5U",
        "colab_type": "text"
      },
      "source": [
        "**2D Array**\n",
        "\n",
        "Description\n",
        "\n",
        "From a 2D array extract all the rows of the 2 column.\n",
        "Hint: 2 column will have index value as 1.\n",
        "\n",
        "Execution Time Limit\n",
        "\n",
        "5 seconds"
      ]
    },
    {
      "cell_type": "code",
      "metadata": {
        "id": "pxqCT9aw-L4c",
        "colab_type": "code",
        "outputId": "3f52fa55-17a2-4230-f61a-8dc0857bf3cd",
        "colab": {
          "base_uri": "https://localhost:8080/",
          "height": 34
        }
      },
      "source": [
        "import numpy as np\n",
        "array_2d =np.array(input_list) \n",
        "input_list = [[5,6,7],[7,6,5],[0,8,7]]\n",
        "new_arr = [x[1] for x in array_2d ]\n",
        "print(np.array(new_arr))"
      ],
      "execution_count": 0,
      "outputs": [
        {
          "output_type": "stream",
          "text": [
            "[6 6 8]\n"
          ],
          "name": "stdout"
        }
      ]
    },
    {
      "cell_type": "code",
      "metadata": {
        "id": "esbH9RJLaeB9",
        "colab_type": "code",
        "outputId": "b5dd8f76-95c1-4016-f1bb-738c7d818c1a",
        "colab": {
          "base_uri": "https://localhost:8080/",
          "height": 85
        }
      },
      "source": [
        "import numpy as np\n",
        "n = 4\n",
        "arr = ([0,1])\n",
        "print(np.tile(arr,(n,n//2)))"
      ],
      "execution_count": 0,
      "outputs": [
        {
          "output_type": "stream",
          "text": [
            "[[0 1 0 1]\n",
            " [0 1 0 1]\n",
            " [0 1 0 1]\n",
            " [0 1 0 1]]\n"
          ],
          "name": "stdout"
        }
      ]
    },
    {
      "cell_type": "markdown",
      "metadata": {
        "id": "E1QLnpEFae8Z",
        "colab_type": "text"
      },
      "source": [
        "**Border Rows and Columns**\n",
        "\n",
        "Description\n",
        "\n",
        "Extract all the border rows and columns from a 2-D array.\n",
        "\n",
        "Format:\n",
        "\n",
        "Input: A 2-D Python list\n",
        "\n",
        "Output: Four NumPy arrays - First column of the input array, first row of the input array, last column of the input array, last row of the input array respectively.\n",
        "\n",
        "Example:\n",
        "\n",
        "Input 1:\n",
        "\n",
        "[[11 12 13 14]\n",
        "\n",
        " [21 22 23 24]\n",
        " \n",
        " [31 32 33 34]]\n",
        " \n",
        "Output 1:\n",
        "\n",
        "[11 21 31]\n",
        "\n",
        "[11 12 13 14]\n",
        "\n",
        "[14 24 34]\n",
        "\n",
        "[31 32 33 34]\n",
        "\n",
        "Execution Time Limit\n",
        "5 seconds"
      ]
    },
    {
      "cell_type": "code",
      "metadata": {
        "id": "ZdBFhmE0lL4V",
        "colab_type": "code",
        "outputId": "a44d2ee7-4c22-4bcc-8f47-55ce87f6c953",
        "colab": {
          "base_uri": "https://localhost:8080/",
          "height": 102
        }
      },
      "source": [
        "import numpy as np\n",
        "\n",
        "input_list = [[11, 12, 13, 14],\n",
        " [21 ,22, 23, 24],\n",
        " [31, 32 ,33, 34]]\n",
        "\n",
        "# Convert the input list to a NumPy array\n",
        "array_2d =np.array(input_list)\n",
        "\n",
        "# Extract the first column, first row, last column and last row respectively using\n",
        "# appropriate indexing\n",
        "row_first = array_2d[0:1,:]\n",
        "col_first = array_2d[:,0:1]\n",
        "col_last = array_2d[:,3:4]\n",
        "row_last = array_2d[2:4,:]\n",
        "colnew = col_first.reshape(k)\n",
        "print(colnew[0])\n",
        "print(row_first[0])\n",
        "coll = col_last.reshape(m)\n",
        "print(coll[0])\n",
        "print(row_last[0])\n"
      ],
      "execution_count": 0,
      "outputs": [
        {
          "output_type": "stream",
          "text": [
            "[11]\n",
            "[11 12 13 14]\n",
            "[14]\n",
            "[31 32 33 34]\n",
            "(3, 1) (3, 1)\n"
          ],
          "name": "stdout"
        }
      ]
    },
    {
      "cell_type": "code",
      "metadata": {
        "id": "W-dyhWUIFqQr",
        "colab_type": "code",
        "colab": {}
      },
      "source": [
        ""
      ],
      "execution_count": 0,
      "outputs": []
    },
    {
      "cell_type": "code",
      "metadata": {
        "id": "gKYWlpMeaigY",
        "colab_type": "code",
        "outputId": "606e4861-ae9d-4b19-ec4a-18d8051f36a4",
        "colab": {
          "base_uri": "https://localhost:8080/",
          "height": 34
        }
      },
      "source": [
        "import numpy as np\n",
        "array_1= np.array([1, 2 ,3 ,5 ,4, 6 ,7 ,8, 5, 3, 2])\n",
        "print(array_1[0::2])"
      ],
      "execution_count": 0,
      "outputs": [
        {
          "output_type": "stream",
          "text": [
            "[1 3 4 7 5 2]\n"
          ],
          "name": "stdout"
        }
      ]
    },
    {
      "cell_type": "code",
      "metadata": {
        "id": "6LaIuzyNFsik",
        "colab_type": "code",
        "outputId": "dc15707f-c6fe-47f9-cac6-349d1747fbce",
        "colab": {
          "base_uri": "https://localhost:8080/",
          "height": 68
        }
      },
      "source": [
        "import numpy as np\n",
        "\n",
        "input_list = [[[1, 2], [5, 6]], [[3, 4], [7, 8]], [[9, 10, 11, 12]]]\n",
        "list_1 = input_list[0]\n",
        "list_2 = input_list[1]\n",
        "list_3 = input_list[2]\n",
        "\n",
        "# Import NumPy\n",
        "import numpy as np\n",
        "hos1 = np.vstack(list_1)\n",
        "hos2 = np.vstack(list_2)\n",
        "result = np.hstack([hos1,hos2])\n",
        "vs = np.vstack(list_3)\n",
        "vert = np.vstack([result,vs])\n",
        "print(vert)\n"
      ],
      "execution_count": 0,
      "outputs": [
        {
          "output_type": "stream",
          "text": [
            "[[ 1  2  3  4]\n",
            " [ 5  6  7  8]\n",
            " [ 9 10 11 12]]\n"
          ],
          "name": "stdout"
        }
      ]
    },
    {
      "cell_type": "markdown",
      "metadata": {
        "id": "1NH-2zOVPFM9",
        "colab_type": "text"
      },
      "source": [
        "**Stack Three Arrays**\n",
        "\n",
        "Description\n",
        "\n",
        "Horizontally stack two arrays using hstack, and finally, vertically stack the resultant array with the third array. \n",
        "\n",
        "Example:\n",
        "\n",
        "Input 1:\n",
        "\n",
        "[[1, 2],\n",
        "\n",
        " [5, 6]]\n",
        "\n",
        "[[3, 4],\n",
        "\n",
        " [7, 8]]\n",
        "\n",
        "[[9, 10, 11, 12]]\n",
        "\n",
        "Output 1:\n",
        "\n",
        "[[1 2 3 4]\n",
        "\n",
        " [5 6 7 8]\n",
        " \n",
        " [9 10 11 12]]"
      ]
    },
    {
      "cell_type": "markdown",
      "metadata": {
        "id": "dNZ7OsCua1DZ",
        "colab_type": "text"
      },
      "source": [
        "**Linear algebra**\n",
        "\n",
        "Description\n",
        "\n",
        "Find the inverse, eigenvalues, eigenvectors, determinants of a given matrix 'array_1'."
      ]
    },
    {
      "cell_type": "code",
      "metadata": {
        "id": "fAaGV1Msa_xQ",
        "colab_type": "code",
        "outputId": "ecabbb97-383a-4a66-ba0c-098afc9c544b",
        "colab": {
          "base_uri": "https://localhost:8080/",
          "height": 136
        }
      },
      "source": [
        "input_list = [[1,2,3],[2,3,4],[4,2,6]]\n",
        "\n",
        "list_1 = input_list[0]\n",
        "list_2 = input_list[1]\n",
        "list_3 = input_list[2]\n",
        "\n",
        "import numpy as np\n",
        "array_1 = np.array([list_1,list_2,list_3])\n",
        "eigen = np.linalg.eig(array_1)\n",
        "inv = np.linalg.inv(array_1)\n",
        "det = np.linalg.det(array_1)\n",
        "print(eigen)\n",
        "print(inv)\n",
        "print(det)"
      ],
      "execution_count": 0,
      "outputs": [
        {
          "output_type": "stream",
          "text": [
            "(array([ 9.62347538, -0.62347538,  1.        ]), array([[-0.38508979, -0.82767094, -0.26726124],\n",
            "       [-0.55951021, -0.14241368, -0.80178373],\n",
            "       [-0.73393063,  0.54284358,  0.53452248]]))\n",
            "[[-1.66666667  1.          0.16666667]\n",
            " [-0.66666667  1.         -0.33333333]\n",
            " [ 1.33333333 -1.          0.16666667]]\n",
            "-6.0\n"
          ],
          "name": "stdout"
        }
      ]
    },
    {
      "cell_type": "code",
      "metadata": {
        "id": "xHDOS9BfgRRg",
        "colab_type": "code",
        "outputId": "5b73ebc2-c677-4fc9-c081-7dd94a4841c0",
        "colab": {
          "base_uri": "https://localhost:8080/",
          "height": 85
        }
      },
      "source": [
        "def sqn():\n",
        "  return [i**2 for i in range(1, 5)]\n",
        "      \n",
        "import numpy as np   \n",
        "arr = np.tile(sqn(),(4,1))\n",
        "print(arr)"
      ],
      "execution_count": 0,
      "outputs": [
        {
          "output_type": "stream",
          "text": [
            "[[ 1  4  9 16]\n",
            " [ 1  4  9 16]\n",
            " [ 1  4  9 16]\n",
            " [ 1  4  9 16]]\n"
          ],
          "name": "stdout"
        }
      ]
    },
    {
      "cell_type": "markdown",
      "metadata": {
        "id": "_jMXyd8epq_C",
        "colab_type": "text"
      },
      "source": [
        "**3D NumPy Array**\n",
        "\n",
        "Description\n",
        "\n",
        "Create a 3D array containing the first 45 natural numbers such that the numbers are divided in 3 blocks, 5 rows and 3 columns.\n",
        "\n",
        "Input: \n",
        "\n",
        "There is no input.\n",
        "\n",
        "Output:\n",
        "\n",
        "[ [ [ 0  1  2]\n",
        "\n",
        "  [ 3  4  5]\n",
        "  \n",
        "  [ 6  7  8]\n",
        "  \n",
        "  [ 9 10 11]\n",
        "  \n",
        "  [12 13 14]]\n",
        "\n",
        "[[15 16 17]\n",
        "\n",
        "  [18 19 20]\n",
        "  \n",
        "  [21 22 23]\n",
        "  \n",
        "  [24 25 26]\n",
        "  \n",
        "  [27 28 29]]\n",
        "\n",
        "[[30 31 32]\n",
        "\n",
        "  [33 34 35]\n",
        "  \n",
        "  [36 37 38]\n",
        "  \n",
        "  [39 40 41]\n",
        "  \n",
        "  [42 43 44] ] ]"
      ]
    },
    {
      "cell_type": "code",
      "metadata": {
        "id": "OUKNe7Q7qJZH",
        "colab_type": "code",
        "outputId": "a7ed9a0c-b682-42ff-9ee4-afc756cca81c",
        "colab": {
          "base_uri": "https://localhost:8080/",
          "height": 306
        }
      },
      "source": [
        "import numpy as np\n",
        "\n",
        "arr1 = np.arange(0,15,1,dtype = int)\n",
        "arr2 = np.arange(15,30,1,dtype = int)\n",
        "arr3 = np.arange(30,45,1,dtype = int)\n",
        "\n",
        "fnarr1 =arr1.reshape(5,3)\n",
        "fnarr2 =arr2.reshape(5,3)\n",
        "fnarr3 =arr3.reshape(5,3)\n",
        "\n",
        "print(np.array([fnarr1,fnarr2,fnarr3]))"
      ],
      "execution_count": 0,
      "outputs": [
        {
          "output_type": "stream",
          "text": [
            "[[[ 0  1  2]\n",
            "  [ 3  4  5]\n",
            "  [ 6  7  8]\n",
            "  [ 9 10 11]\n",
            "  [12 13 14]]\n",
            "\n",
            " [[15 16 17]\n",
            "  [18 19 20]\n",
            "  [21 22 23]\n",
            "  [24 25 26]\n",
            "  [27 28 29]]\n",
            "\n",
            " [[30 31 32]\n",
            "  [33 34 35]\n",
            "  [36 37 38]\n",
            "  [39 40 41]\n",
            "  [42 43 44]]]\n"
          ],
          "name": "stdout"
        }
      ]
    },
    {
      "cell_type": "markdown",
      "metadata": {
        "id": "oAkZN_zHuOIw",
        "colab_type": "text"
      },
      "source": [
        "**Linspace Function**\n",
        "\n",
        "Description\n",
        "\n",
        "Create an array containing 15 numbers. The array should start from the number 21 and end in number 25. The array should have evenly spaced numbers between 21 and 25 in increasing order.\n",
        "\n",
        "Input: No input\n",
        "\n",
        "Output: \n",
        "\n",
        "[21.   21.28571429     21.57142857   21.85714286   \n",
        "22.14285714   22.42857143  22.71428571  23.   23.28571429  \n",
        "23.57142857   23.85714286   24.14285714\n",
        "24.42857143   24.71428571 25.]\n"
      ]
    },
    {
      "cell_type": "code",
      "metadata": {
        "id": "SSoAQFw0u1lm",
        "colab_type": "code",
        "outputId": "5affdab3-86bf-47ba-d155-54d604292dcc",
        "colab": {
          "base_uri": "https://localhost:8080/",
          "height": 68
        }
      },
      "source": [
        "import numpy as np\n",
        "\n",
        "arr = np.linspace(21, 25 ,15)\n",
        "print(arr)"
      ],
      "execution_count": 0,
      "outputs": [
        {
          "output_type": "stream",
          "text": [
            "[21.         21.28571429 21.57142857 21.85714286 22.14285714 22.42857143\n",
            " 22.71428571 23.         23.28571429 23.57142857 23.85714286 24.14285714\n",
            " 24.42857143 24.71428571 25.        ]\n"
          ],
          "name": "stdout"
        }
      ]
    },
    {
      "cell_type": "markdown",
      "metadata": {
        "id": "RDWkTK4ywu5A",
        "colab_type": "text"
      },
      "source": [
        "**Vectorize Function**\n",
        "\n",
        "Description\n",
        "\n",
        "Using the vectorize() function, apply a quadratic function, x2  - 5x + 1 only on the last row of the array \n",
        "\n",
        "[[1,2,3,4],\n",
        "\n",
        "[4,7,5,6], \n",
        "\n",
        "[9,0,7,8],\n",
        "\n",
        "[6,7,8,5]]. \n",
        "\n",
        "Input:\n",
        "\n",
        "[ [1,2,3,4],\n",
        "\n",
        "[4,7,5,6],\n",
        "\n",
        "[9,0,7,8],\n",
        "\n",
        "[6,7,8,5] ]\n",
        "\n",
        "Output:\n",
        "\n",
        "[ 7 15 25  1]"
      ]
    },
    {
      "cell_type": "code",
      "metadata": {
        "id": "0pJ-8oSlxOFJ",
        "colab_type": "code",
        "outputId": "85f3b7e7-8e8a-42a1-f061-449b684b6448",
        "colab": {
          "base_uri": "https://localhost:8080/",
          "height": 34
        }
      },
      "source": [
        "input_list = [[1,2,3,4], [4,7,5,6], [9,0,7,8], [6,7,8,5]]\n",
        "\n",
        "num_list_1 = input_list[0]\n",
        "num_list_2 = input_list[1]\n",
        "num_list_3 = input_list[2]\n",
        "num_list_4 = input_list[3]\n",
        "\n",
        "import numpy as np\n",
        "def quad(x):\n",
        "    eq = (x**2) -5*x +1\n",
        "    return eq\n",
        "    \n",
        "print(quad(np.array(num_list_4)))"
      ],
      "execution_count": 0,
      "outputs": [
        {
          "output_type": "stream",
          "text": [
            "[ 7 15 25  1]\n"
          ],
          "name": "stdout"
        }
      ]
    },
    {
      "cell_type": "code",
      "metadata": {
        "id": "0g-Vj9UczIoY",
        "colab_type": "code",
        "outputId": "a5cae87b-62ae-42c7-b784-4cd867fe695f",
        "colab": {
          "base_uri": "https://localhost:8080/",
          "height": 51
        }
      },
      "source": [
        "import numpy as np\n",
        "\n",
        "list1 = [[1, 2, 3, 4], [11, 12, 13, 14]] \n",
        "list2 = [[-5, -6], [-7, -8], [15, 16], [17, 18]]\n",
        "\n",
        "arr1 = np.array(list1)\n",
        "arr2 = np.array(list2)\n",
        "result = np.dot(list1,list2)\n",
        "print(result)"
      ],
      "execution_count": 0,
      "outputs": [
        {
          "output_type": "stream",
          "text": [
            "[[ 94  98]\n",
            " [294 298]]\n"
          ],
          "name": "stdout"
        }
      ]
    },
    {
      "cell_type": "code",
      "metadata": {
        "id": "YG3WLxgn0gn1",
        "colab_type": "code",
        "outputId": "ec576890-fd0b-49c7-fa50-f35900e48120",
        "colab": {
          "base_uri": "https://localhost:8080/",
          "height": 34
        }
      },
      "source": [
        "\n",
        "import numpy as np\n",
        "arr = np.full((11,12),5,dtype = int)\n",
        "k = np.where(arr == 100)\n",
        "print(k)"
      ],
      "execution_count": 0,
      "outputs": [
        {
          "output_type": "stream",
          "text": [
            "(array([], dtype=int64), array([], dtype=int64))\n"
          ],
          "name": "stdout"
        }
      ]
    },
    {
      "cell_type": "markdown",
      "metadata": {
        "id": "W6qDzBSq1md9",
        "colab_type": "text"
      },
      "source": [
        "**Swap two rows**\n",
        "\n",
        "Description\n",
        "\n",
        "Given m and n, swap the mth and nth rows of the 2-D NumPy array given below.\n",
        "\n",
        "\n",
        "a = \n",
        "           \n",
        "         [ [4 3 1] \n",
        "\n",
        "         [5 7 0] \n",
        "         \n",
        "         [9 9 3] \n",
        "         \n",
        "         [8 2 4]] \n",
        "\n",
        "Example: \n",
        "\n",
        "Input 1: \n",
        "\n",
        "0 \n",
        "2 \n",
        "\n",
        "Output 1: \n",
        "\n",
        "[[9 9 3] \n",
        "\n",
        " [5 7 0]\n",
        " \n",
        " [4 3 1] \n",
        " \n",
        " [8 2 4]]"
      ]
    },
    {
      "cell_type": "code",
      "metadata": {
        "id": "KuwZ9UDR2UAt",
        "colab_type": "code",
        "outputId": "9173bd53-4388-4a48-ae20-be157dd178d5",
        "colab": {
          "base_uri": "https://localhost:8080/",
          "height": 119
        }
      },
      "source": [
        "\n",
        "import numpy as np\n",
        "\n",
        "a = np.array([[4, 3, 1], [5, 7, 0], [9, 9, 3], [8, 2, 4]])\n",
        "\n",
        "# Read the values of m and n\n",
        "m = int(input())\n",
        "n = int(input())\n",
        "\n",
        "# Write your code for swapping here\n",
        "a[[m,n]] = a[[n,m]]\n",
        "print(a)"
      ],
      "execution_count": 0,
      "outputs": [
        {
          "output_type": "stream",
          "text": [
            "0\n",
            "2\n",
            "[[9 9 3]\n",
            " [5 7 0]\n",
            " [4 3 1]\n",
            " [8 2 4]]\n"
          ],
          "name": "stdout"
        }
      ]
    },
    {
      "cell_type": "code",
      "metadata": {
        "id": "pYu_nuwYRFyD",
        "colab_type": "code",
        "outputId": "ee7574ff-87ec-420d-c364-9679d4d55072",
        "colab": {
          "base_uri": "https://localhost:8080/",
          "height": 119
        }
      },
      "source": [
        "\n",
        "n = int(input())\n",
        "\n",
        "import numpy as np\n",
        "\n",
        "# Create an 'n*n' array of all ones\n",
        "border_array = np.ones((n, n), dtype = int)\n",
        "\n",
        "# Fill the array with zeroes from second index (i.e. index 1) to second last index.\n",
        "# Do this for both row indices and column indices\n",
        "border_array[1:-1, 1:-1] = 0\n",
        "\n",
        "# Print the array created\n",
        "print(border_array)"
      ],
      "execution_count": 0,
      "outputs": [
        {
          "output_type": "stream",
          "text": [
            "5\n",
            "[[1 1 1 1 1]\n",
            " [1 0 0 0 1]\n",
            " [1 0 0 0 1]\n",
            " [1 0 0 0 1]\n",
            " [1 1 1 1 1]]\n"
          ],
          "name": "stdout"
        }
      ]
    },
    {
      "cell_type": "markdown",
      "metadata": {
        "id": "FmwrM0PERJIg",
        "colab_type": "text"
      },
      "source": [
        "**Create border array**\n",
        "\n",
        "Description\n",
        "\n",
        "Given a single integer n, create an (n x n) 2D array with 1 on the border and 0 on the inside. \n",
        "\n",
        "Note: Make sure the array is of type int.\n",
        "\n",
        "Example: \n",
        "\n",
        "Input 1: \n",
        "\n",
        "4 \n",
        "\n",
        "Output 1: \n",
        "\n",
        "[[1 1 1 1] \n",
        "\n",
        "[1 0 0 1]\n",
        "\n",
        "[1 0 0 1]\n",
        "\n",
        "[1 1 1 1]]\n",
        "\n",
        "Input 2: \n",
        "\n",
        "2 \n",
        "Output 2: \n",
        "\n",
        "[[1 1] \n",
        "\n",
        " [1 1]] "
      ]
    }
  ]
}