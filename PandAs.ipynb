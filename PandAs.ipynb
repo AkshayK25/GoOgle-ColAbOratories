{
  "nbformat": 4,
  "nbformat_minor": 0,
  "metadata": {
    "colab": {
      "name": "PandAs.ipynb",
      "version": "0.3.2",
      "provenance": [],
      "collapsed_sections": [],
      "include_colab_link": true
    },
    "kernelspec": {
      "name": "python3",
      "display_name": "Python 3"
    }
  },
  "cells": [
    {
      "cell_type": "markdown",
      "metadata": {
        "id": "view-in-github",
        "colab_type": "text"
      },
      "source": [
        "<a href=\"https://colab.research.google.com/github/AkshayK25/GoOgle-ColAbOratories/blob/master/PandAs.ipynb\" target=\"_parent\"><img src=\"https://colab.research.google.com/assets/colab-badge.svg\" alt=\"Open In Colab\"/></a>"
      ]
    },
    {
      "cell_type": "code",
      "metadata": {
        "id": "9LLsO5K9ZLC-",
        "colab_type": "code",
        "outputId": "09c08c35-c7a8-49b9-b4dd-97db76c60db4",
        "colab": {
          "base_uri": "https://localhost:8080/",
          "height": 408
        }
      },
      "source": [
        "import numpy as np\n",
        "import pandas as pd\n",
        "df = pd.read_csv('https://query.data.world/s/vBDCsoHCytUSLKkLvq851k2b8JOCkF')\n",
        "pd.set_option('display.max_rows',517)\n",
        "pd.set_option('display.max_columns',33)\n",
        "pd.options.display.show_dimensions = False\n",
        "print(df.describe())\n",
        "print(df.columns)\n",
        "print(df.shape)"
      ],
      "execution_count": 0,
      "outputs": [
        {
          "output_type": "stream",
          "text": [
            "                X           Y        FFMC         DMC          DC         ISI  \\\n",
            "count  517.000000  517.000000  517.000000  517.000000  517.000000  517.000000   \n",
            "mean     4.669246    4.299807   90.644681  110.872340  547.940039    9.021663   \n",
            "std      2.313778    1.229900    5.520111   64.046482  248.066192    4.559477   \n",
            "min      1.000000    2.000000   18.700000    1.100000    7.900000    0.000000   \n",
            "25%      3.000000    4.000000   90.200000   68.600000  437.700000    6.500000   \n",
            "50%      4.000000    4.000000   91.600000  108.300000  664.200000    8.400000   \n",
            "75%      7.000000    5.000000   92.900000  142.400000  713.900000   10.800000   \n",
            "max      9.000000    9.000000   96.200000  291.300000  860.600000   56.100000   \n",
            "\n",
            "             temp          RH        wind        rain         area  \n",
            "count  517.000000  517.000000  517.000000  517.000000   517.000000  \n",
            "mean    18.889168   44.288201    4.017602    0.021663    12.847292  \n",
            "std      5.806625   16.317469    1.791653    0.295959    63.655818  \n",
            "min      2.200000   15.000000    0.400000    0.000000     0.000000  \n",
            "25%     15.500000   33.000000    2.700000    0.000000     0.000000  \n",
            "50%     19.300000   42.000000    4.000000    0.000000     0.520000  \n",
            "75%     22.800000   53.000000    4.900000    0.000000     6.570000  \n",
            "max     33.300000  100.000000    9.400000    6.400000  1090.840000  \n",
            "Index(['X', 'Y', 'month', 'day', 'FFMC', 'DMC', 'DC', 'ISI', 'temp', 'RH',\n",
            "       'wind', 'rain', 'area'],\n",
            "      dtype='object')\n",
            "(517, 13)\n"
          ],
          "name": "stdout"
        }
      ]
    },
    {
      "cell_type": "code",
      "metadata": {
        "id": "SypfaanoDaDk",
        "colab_type": "code",
        "colab": {}
      },
      "source": [
        ""
      ],
      "execution_count": 0,
      "outputs": []
    },
    {
      "cell_type": "markdown",
      "metadata": {
        "id": "PVMBapyDfxvn",
        "colab_type": "text"
      },
      "source": [
        "**Pandas Series**\n",
        "\n",
        "Description\n",
        "\n",
        "Create a series using list = [6,7,8,9,2,3,4,5] and print the output series as the square of each number in the list.\n",
        "\n",
        "Hint: If input series = 1,2,3 the output series should be 1,4,9\n",
        "Hint: First create the series and then using apply and lambda find the output series."
      ]
    },
    {
      "cell_type": "code",
      "metadata": {
        "id": "bA5XZ7O0dfsh",
        "colab_type": "code",
        "outputId": "35a8028d-ae0e-4aaa-e1d1-f92a72f3c2d0",
        "colab": {
          "base_uri": "https://localhost:8080/",
          "height": 323
        }
      },
      "source": [
        "import numpy as np\n",
        "import pandas as pd\n",
        "lists = [6,7,8,9,2,3,4,5]\n",
        "def sq():\n",
        "    new = []\n",
        "    for x in lists:\n",
        "        new.append(x**2)\n",
        "    return new\n",
        "\n",
        "flist = sq()\n",
        "series_1 = pd.Series(lists)\n",
        "series_2 = pd.Series(flist)\n",
        "print(series_1)\n",
        "print(series_2)"
      ],
      "execution_count": 0,
      "outputs": [
        {
          "output_type": "stream",
          "text": [
            "0    6\n",
            "1    7\n",
            "2    8\n",
            "3    9\n",
            "4    2\n",
            "5    3\n",
            "6    4\n",
            "7    5\n",
            "dtype: int64\n",
            "0    36\n",
            "1    49\n",
            "2    64\n",
            "3    81\n",
            "4     4\n",
            "5     9\n",
            "6    16\n",
            "7    25\n",
            "dtype: int64\n"
          ],
          "name": "stdout"
        }
      ]
    },
    {
      "cell_type": "markdown",
      "metadata": {
        "id": "ZXeQEwojDb8H",
        "colab_type": "text"
      },
      "source": [
        "**Manual Indexing**\n",
        "\n",
        "Description\n",
        "\n",
        "Create a panda series that contains the first ‘n’ natural numbers and their respective squares. The first ‘n’ numbers should appear in the index position. \n",
        "Hint: Use manual indexing.\n",
        " \n",
        "Format:\n",
        "Input: A natural number 'n'\n",
        "Output: A pandas series with the first 'n' natural numbers in the index position and their respective squares in the adjacent column.\n"
      ]
    },
    {
      "cell_type": "code",
      "metadata": {
        "id": "60vPqSQDDgUI",
        "colab_type": "code",
        "outputId": "8f2d4aa0-5dd6-4cf7-cac7-0e09b2d56095",
        "colab": {
          "base_uri": "https://localhost:8080/",
          "height": 204
        }
      },
      "source": [
        "n = int(input())\n",
        "lists = []\n",
        "def create_list(z):\n",
        "    for i in range(1,z+1):\n",
        "        lists.append(i)\n",
        "    return lists\n",
        "    \n",
        "fl = create_list(n)\n",
        "import numpy as np \n",
        "import pandas as pd \n",
        "def sq():\n",
        "    new = []\n",
        "    for x in fl:\n",
        "        new.append(x**2)\n",
        "    return new\n",
        "\n",
        "fpd = pd.Series(sq(), index = fl)\n",
        "print(fpd)"
      ],
      "execution_count": 0,
      "outputs": [
        {
          "output_type": "stream",
          "text": [
            "9\n",
            "1     1\n",
            "2     4\n",
            "3     9\n",
            "4    16\n",
            "5    25\n",
            "6    36\n",
            "7    49\n",
            "8    64\n",
            "9    81\n",
            "dtype: int64\n"
          ],
          "name": "stdout"
        }
      ]
    },
    {
      "cell_type": "code",
      "metadata": {
        "id": "qcgaiZp6p5fi",
        "colab_type": "code",
        "outputId": "42edcb59-91a2-4ed0-97e0-7b728f53298e",
        "colab": {
          "base_uri": "https://localhost:8080/",
          "height": 238
        }
      },
      "source": [
        "import numpy as np\n",
        "a=np.arange(1,133).reshape(11,12)\n",
        "print(a)\n",
        "print(np.shape(a))\n",
        "print(a[8,3])"
      ],
      "execution_count": 0,
      "outputs": [
        {
          "output_type": "stream",
          "text": [
            "[[  1   2   3   4   5   6   7   8   9  10  11  12]\n",
            " [ 13  14  15  16  17  18  19  20  21  22  23  24]\n",
            " [ 25  26  27  28  29  30  31  32  33  34  35  36]\n",
            " [ 37  38  39  40  41  42  43  44  45  46  47  48]\n",
            " [ 49  50  51  52  53  54  55  56  57  58  59  60]\n",
            " [ 61  62  63  64  65  66  67  68  69  70  71  72]\n",
            " [ 73  74  75  76  77  78  79  80  81  82  83  84]\n",
            " [ 85  86  87  88  89  90  91  92  93  94  95  96]\n",
            " [ 97  98  99 100 101 102 103 104 105 106 107 108]\n",
            " [109 110 111 112 113 114 115 116 117 118 119 120]\n",
            " [121 122 123 124 125 126 127 128 129 130 131 132]]\n",
            "(11, 12)\n",
            "100\n"
          ],
          "name": "stdout"
        }
      ]
    },
    {
      "cell_type": "markdown",
      "metadata": {
        "id": "1gRQy7EHWmFk",
        "colab_type": "text"
      },
      "source": [
        "**Missing Values Percentage**\n",
        "\n",
        "Description\n",
        "\n",
        "Find out the percentage of missing values in each column in the given dataset."
      ]
    },
    {
      "cell_type": "code",
      "metadata": {
        "id": "bGvXG0hRWtug",
        "colab_type": "code",
        "outputId": "981b2ba8-afcb-47dc-e7af-9bdf59766c81",
        "colab": {
          "base_uri": "https://localhost:8080/",
          "height": 204
        }
      },
      "source": [
        "import pandas as pd\n",
        "df = pd.read_csv('https://query.data.world/s/Hfu_PsEuD1Z_yJHmGaxWTxvkz7W_b0')\n",
        "percent_missing = df.isnull().sum() * 100 / len(df)\n",
        "print(round(percent_missing,2))"
      ],
      "execution_count": 0,
      "outputs": [
        {
          "output_type": "stream",
          "text": [
            "Ord_id                 0.00\n",
            "Prod_id                0.00\n",
            "Ship_id                0.00\n",
            "Cust_id                0.00\n",
            "Sales                  0.24\n",
            "Discount               0.65\n",
            "Order_Quantity         0.65\n",
            "Profit                 0.65\n",
            "Shipping_Cost          0.65\n",
            "Product_Base_Margin    1.30\n",
            "dtype: float64\n"
          ],
          "name": "stdout"
        }
      ]
    },
    {
      "cell_type": "markdown",
      "metadata": {
        "id": "RdFquZvybEUI",
        "colab_type": "text"
      },
      "source": [
        "**Mean Imputation**\n",
        "\n",
        "Description\n",
        "\n",
        "Impute the mean value at all the missing values of the column 'Product_Base_Margin' and then print the percentage of missing values in each column."
      ]
    },
    {
      "cell_type": "code",
      "metadata": {
        "id": "fUIQPwrIbDAw",
        "colab_type": "code",
        "colab": {
          "base_uri": "https://localhost:8080/",
          "height": 204
        },
        "outputId": "3b9d845f-30a7-47f4-b187-537f1676ac6c"
      },
      "source": [
        "import numpy as np\n",
        "import pandas as pd\n",
        "df = pd.read_csv('https://query.data.world/s/Hfu_PsEuD1Z_yJHmGaxWTxvkz7W_b0')\n",
        "df['Product_Base_Margin'] = df['Product_Base_Margin'].fillna((df['Product_Base_Margin'].mean()))\n",
        "percent_missing = df.isnull().sum() * 100 / len(df)\n",
        "print(round((percent_missing),2))"
      ],
      "execution_count": 2,
      "outputs": [
        {
          "output_type": "stream",
          "text": [
            "Ord_id                 0.00\n",
            "Prod_id                0.00\n",
            "Ship_id                0.00\n",
            "Cust_id                0.00\n",
            "Sales                  0.24\n",
            "Discount               0.65\n",
            "Order_Quantity         0.65\n",
            "Profit                 0.65\n",
            "Shipping_Cost          0.65\n",
            "Product_Base_Margin    0.00\n",
            "dtype: float64\n"
          ],
          "name": "stdout"
        }
      ]
    }
  ]
}